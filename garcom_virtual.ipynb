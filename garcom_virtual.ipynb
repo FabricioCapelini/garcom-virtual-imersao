{
  "nbformat": 4,
  "nbformat_minor": 0,
  "metadata": {
    "colab": {
      "provenance": [],
      "authorship_tag": "ABX9TyPzOWChf2gwmdFlkFTQnJn2",
      "include_colab_link": true
    },
    "kernelspec": {
      "name": "python3",
      "display_name": "Python 3"
    },
    "language_info": {
      "name": "python"
    }
  },
  "cells": [
    {
      "cell_type": "markdown",
      "metadata": {
        "id": "view-in-github",
        "colab_type": "text"
      },
      "source": [
        "<a href=\"https://colab.research.google.com/github/FabricioCapelini/garcom-virtual-imersao/blob/main/garcom_virtual.ipynb\" target=\"_parent\"><img src=\"https://colab.research.google.com/assets/colab-badge.svg\" alt=\"Open In Colab\"/></a>"
      ]
    },
    {
      "cell_type": "markdown",
      "source": [
        "instalação biblioteca generativeai"
      ],
      "metadata": {
        "id": "QG8FlEiffXEm"
      }
    },
    {
      "cell_type": "code",
      "execution_count": 1,
      "metadata": {
        "id": "q1VNErKwV97j"
      },
      "outputs": [],
      "source": [
        "!pip install -q -U google-generativeai"
      ]
    },
    {
      "cell_type": "markdown",
      "source": [
        "import da biblioteca com alias genai\n",
        "import das variáveis de ambiente do google colab e configuração da API_KEY"
      ],
      "metadata": {
        "id": "tMEoUdESfwcU"
      }
    },
    {
      "cell_type": "code",
      "source": [
        "import google.generativeai as genai\n",
        "import pathlib\n",
        "import textwrap\n",
        "\n",
        "from IPython.display import display\n",
        "from IPython.display import Markdown\n",
        "\n",
        "from google.colab import userdata\n",
        "\n",
        "GOOGLE_API_KEY = userdata.get('SECRET_KEY')\n",
        "genai.configure(api_key=GOOGLE_API_KEY)"
      ],
      "metadata": {
        "id": "5sPVIaXrWTwB"
      },
      "execution_count": 36,
      "outputs": []
    },
    {
      "cell_type": "markdown",
      "source": [
        "parametrização da IA e criação do model"
      ],
      "metadata": {
        "id": "smeAQgNTf-Sy"
      }
    },
    {
      "cell_type": "code",
      "source": [
        "generation_config = {\n",
        "    'candidate_count': 1,\n",
        "    'temperature': 0.5,\n",
        "}\n",
        "\n",
        "safety_settings = {\n",
        "    'HARASSMENT': 'BLOCK_NONE',\n",
        "    'HATE': 'BLOCK_NONE',\n",
        "    'SEXUAL': 'BLOCK_NONE',\n",
        "    'DANGEROUS': 'BLOCK_NONE',\n",
        "}\n",
        "\n",
        "model = genai.GenerativeModel(model_name='gemini-1.0-pro', generation_config=generation_config, safety_settings=safety_settings)"
      ],
      "metadata": {
        "id": "XN_QN9-LWaXl"
      },
      "execution_count": 5,
      "outputs": []
    },
    {
      "cell_type": "code",
      "source": [
        "def to_markdown(text):\n",
        "  text = text.replace('•', '  *')\n",
        "  return Markdown(textwrap.indent(text, '> ', predicate=lambda _: True))"
      ],
      "metadata": {
        "id": "UL2V38SfhVOB"
      },
      "execution_count": 42,
      "outputs": []
    },
    {
      "cell_type": "markdown",
      "source": [
        "Inicio da regra de negócio: ideia é um garçom virtual que irá realizar um atendimento baseado em um arquivo de cardápio do restaurante com as informações de pratos e valores. A partir disso o atendimento é realizado. Para sair do chat digitar 'fim'.\n",
        "Regra de negócio é que ao final do pedido deve-se apresentar um resumo da conta com os itens solicitados, subtotal, total e a taxa de serviço de 10%."
      ],
      "metadata": {
        "id": "yBGk8VSGgGXo"
      }
    },
    {
      "cell_type": "code",
      "source": [
        "nomeGarcom = 'Sushi Virtual'\n",
        "pathFile = userdata.get('PATH_FILE')\n",
        "firstPrompt = f'{pathFile}' + f'\\n\\nAnalise esse cardápio e e inicie um chat com o usuário sendo um garçom virtual, seu nome é {nomeGarcom}. Faça sempre apenas uma pergunta por vez e aguarde cada resposta pelo prompt do usuário, inicie se apresentando educadamente e pedindo o nome do usuário. \\n\\n Pontos importantes: para sair do chat o usuário deve digitar no prompt a palavra FIM. \\n\\n Oferecer sugestões do cardápio conforme o gosto do usuário \\n\\n Ao finalizar o pedido apresentar o resumo da conta com os itens solicitados, o valor subtotal, total e considerar a taxa de serviço de 10%. '\n",
        "\n",
        "\n",
        "chat = model.start_chat(history=[])\n",
        "isFirst = True\n",
        "prompt = ''\n",
        "while prompt != 'fim':\n",
        "  if isFirst:\n",
        "    response = chat.send_message(firstPrompt)\n",
        "    display(to_markdown(response.text))\n",
        "    isFirst = False\n",
        "  else:\n",
        "    response = chat.send_message(prompt)\n",
        "    display(to_markdown(response.text))\n",
        "  prompt = input('')"
      ],
      "metadata": {
        "id": "z6igyIQrWeq9"
      },
      "execution_count": null,
      "outputs": []
    }
  ]
}